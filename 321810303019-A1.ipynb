{
 "cells": [
  {
   "cell_type": "markdown",
   "metadata": {},
   "source": [
    "# Version 1:"
   ]
  },
  {
   "cell_type": "markdown",
   "metadata": {},
   "source": [
    "Basic program for implementing quadratic equation."
   ]
  },
  {
   "cell_type": "code",
   "execution_count": 7,
   "metadata": {},
   "outputs": [
    {
     "name": "stdout",
     "output_type": "stream",
     "text": [
      "the roots are: -0.585786 and -3.414214\n"
     ]
    }
   ],
   "source": [
    "import math;\n",
    "a=5\n",
    "b=20\n",
    "c=10\n",
    "d= (b*b)-(4*a*c) \n",
    "r1=(((-b)+math.sqrt(d))/(2*a)) \n",
    "r2= (((-b)-math.sqrt(d))/(2*a)) \n",
    "print (\"the roots are: %f and %f\" %(r1,r2))\n"
   ]
  },
  {
   "cell_type": "markdown",
   "metadata": {},
   "source": [
    "# Version 2:"
   ]
  },
  {
   "cell_type": "markdown",
   "metadata": {},
   "source": [
    " Modified program of Version 1 as to know real roots and imaginary roots"
   ]
  },
  {
   "cell_type": "code",
   "execution_count": 15,
   "metadata": {},
   "outputs": [
    {
     "name": "stdout",
     "output_type": "stream",
     "text": [
      "roots are imaginary\n",
      "r1= -2.00 + 1.00 i and r2= -2.00 - 1.00 i\n"
     ]
    }
   ],
   "source": [
    "a=1\n",
    "b=4\n",
    "c=5\n",
    "d=(b*b)-(4*a*c)\n",
    "if(d>0):\n",
    "    print(\"roots are real\")\n",
    "    r1=(((-b)+math.sqrt(d))/(2*a))\n",
    "    r2=(((-b)-math.sqrt(d))/(2*a))\n",
    "    print(\"the roots are: %f and %f\" %(r1,r2))\n",
    "elif(d<0):\n",
    "    print(\"roots are imaginary\")\n",
    "    r1=r2=(-b/(2*a))\n",
    "    r=(math.sqrt(-d))/(2*a)\n",
    "print(\"r1= %.2f + %.2f i and r2= %.2f - %.2f i\"%(r1,r,r2,r))\n"
   ]
  },
  {
   "cell_type": "markdown",
   "metadata": {},
   "source": [
    "# Version 3:"
   ]
  },
  {
   "cell_type": "markdown",
   "metadata": {},
   "source": [
    "Modified program of Version 2 to further know that the real roots are equal or distinct "
   ]
  },
  {
   "cell_type": "code",
   "execution_count": 19,
   "metadata": {},
   "outputs": [
    {
     "name": "stdout",
     "output_type": "stream",
     "text": [
      "roots are equal\n",
      "r1= -1.00  and r2= -1.00 \n"
     ]
    }
   ],
   "source": [
    "a=1\n",
    "b=2\n",
    "c=1\n",
    "d= (b*b)-(4*a*c)\n",
    "if (d>0):\n",
    "    print(\"roots are real and distinct\")\n",
    "    r1=(((-b)+math.sqrt(d))/(2*a))\n",
    "    r2=(((-b)-math.sqrt(d))/(2*a))\n",
    "    print(\"the roots are: %f and %f\" %(r1,r2))\n",
    "elif(d<0):\n",
    "    print(\"roots are imaginary\")\n",
    "    r1=r2=(-b/(2*a))\n",
    "    r= (math.sqrt(-d))/(2*a)\n",
    "    print(\"r1= %.2f + %.2f i and r2= %.2f - %.2f i\"%(r1,r,r2,r))\n",
    "else:\n",
    "    print(\"roots are equal\")\n",
    "    r1=r2=(-b/(2*a))\n",
    "    print(\"r1= %.2f  and r2= %.2f \"%(r1,r2))"
   ]
  },
  {
   "cell_type": "markdown",
   "metadata": {},
   "source": [
    "# Version 4:"
   ]
  },
  {
   "cell_type": "markdown",
   "metadata": {},
   "source": [
    "Modified program of Version 4 to accept inputs from user either as integer or floating point."
   ]
  },
  {
   "cell_type": "code",
   "execution_count": 25,
   "metadata": {},
   "outputs": [
    {
     "name": "stdout",
     "output_type": "stream",
     "text": [
      "enter the values of a 6\n",
      "enter the values of b 7\n",
      "enter the values of c 6\n",
      "roots are imaginary\n",
      "r1= -0.58 + 0.81 i and r2=-0.58-0.81 i\n"
     ]
    }
   ],
   "source": [
    "a=float(input(\"enter the values of a \"))\n",
    "b=float(input(\"enter the values of b \"))\n",
    "c=float(input(\"enter the values of c \"))\n",
    "d=(b*b)-(4*a*c)\n",
    "if(a==0):\n",
    "    print(\"divide by zero error\")\n",
    "else:\n",
    "    if(d>0):\n",
    "        print(\"roots are real\")\n",
    "        r1=(((-b)+math.sqrt(d))/(2*a))\n",
    "        r2=(((-b)-math.sqrt(d))/(2*a))\n",
    "        print(\"the roots are: %f and %f\"%(r1,r2))\n",
    "    elif(d<0):\n",
    "        print(\"roots are imaginary\")\n",
    "        r1=r2=(-b/(2*a))\n",
    "        x=(math.sqrt(-d))/(2*a)\n",
    "        print(\"r1= %.2f + %.2f i and r2=%.2f-%.2f i\"%(r1,x,r2,x))\n",
    "    else:\n",
    "        print(\"roots are equal\")\n",
    "        r1=r2=(-b/(2*a))\n",
    "        print(\"r1= %.2f  and r2= %.2f \"%(r1,r2))"
   ]
  }
 ],
 "metadata": {
  "kernelspec": {
   "display_name": "Python 3",
   "language": "python",
   "name": "python3"
  },
  "language_info": {
   "codemirror_mode": {
    "name": "ipython",
    "version": 3
   },
   "file_extension": ".py",
   "mimetype": "text/x-python",
   "name": "python",
   "nbconvert_exporter": "python",
   "pygments_lexer": "ipython3",
   "version": "3.7.6"
  }
 },
 "nbformat": 4,
 "nbformat_minor": 4
}
